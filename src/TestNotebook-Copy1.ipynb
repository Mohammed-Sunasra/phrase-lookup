{
 "cells": [
  {
   "cell_type": "code",
   "execution_count": 6,
   "metadata": {},
   "outputs": [
    {
     "name": "stderr",
     "output_type": "stream",
     "text": [
      "[autoreload of tokenizer failed: Traceback (most recent call last):\n",
      "  File \"/home/mohammedsunasra/.virtualenvs/deeplearning/lib/python3.6/site-packages/IPython/extensions/autoreload.py\", line 244, in check\n",
      "    superreload(m, reload, self.old_objects)\n",
      "  File \"/home/mohammedsunasra/.virtualenvs/deeplearning/lib/python3.6/site-packages/IPython/extensions/autoreload.py\", line 376, in superreload\n",
      "    module = reload(module)\n",
      "  File \"/home/mohammedsunasra/.virtualenvs/deeplearning/lib/python3.6/imp.py\", line 315, in reload\n",
      "    return importlib.reload(module)\n",
      "  File \"/home/mohammedsunasra/.virtualenvs/deeplearning/lib/python3.6/importlib/__init__.py\", line 166, in reload\n",
      "    _bootstrap._exec(spec, module)\n",
      "  File \"<frozen importlib._bootstrap>\", line 618, in _exec\n",
      "  File \"<frozen importlib._bootstrap_external>\", line 674, in exec_module\n",
      "  File \"<frozen importlib._bootstrap_external>\", line 781, in get_code\n",
      "  File \"<frozen importlib._bootstrap_external>\", line 741, in source_to_code\n",
      "  File \"<frozen importlib._bootstrap>\", line 219, in _call_with_frames_removed\n",
      "  File \"/home/mohammedsunasra/Mohammed/PixelDust/jason/phrase-lookup/src/tokenizer.py\", line 13\n",
      "    def __init__(self, data_reader=None, max_words=None, max_len, no_of_classes,\n",
      "                ^\n",
      "SyntaxError: non-default argument follows default argument\n",
      "]\n"
     ]
    }
   ],
   "source": [
    "%reload_ext autoreload\n",
    "%autoreload 2"
   ]
  },
  {
   "cell_type": "code",
   "execution_count": 9,
   "metadata": {},
   "outputs": [],
   "source": [
    "from keras.optimizers import RMSprop\n",
    "from datareader import DataReader\n",
    "from tokenizer import Tokenize\n",
    "from model import LSTMModel\n",
    "\n",
    "from config import constants as const\n",
    "from config import path\n",
    "import pickle"
   ]
  },
  {
   "cell_type": "code",
   "execution_count": 8,
   "metadata": {},
   "outputs": [],
   "source": [
    "from keras.metrics import top_k_categorical_accuracy, categorical_accuracy"
   ]
  },
  {
   "cell_type": "code",
   "execution_count": 18,
   "metadata": {},
   "outputs": [],
   "source": [
    "with open('output_files/tokenizer_v1.pkl', 'rb') as pkl_file:\n",
    "    data_tokenizer = pickle.load(pkl_file)"
   ]
  },
  {
   "cell_type": "code",
   "execution_count": 13,
   "metadata": {},
   "outputs": [
    {
     "name": "stderr",
     "output_type": "stream",
     "text": [
      "/home/mohammedsunasra/Mohammed/PixelDust/jason/phrase-lookup/src/datareader.py:28: FutureWarning: Sorting because non-concatenation axis is not aligned. A future version\n",
      "of pandas will change to not sort by default.\n",
      "\n",
      "To accept the future behavior, pass 'sort=False'.\n",
      "\n",
      "To retain the current behavior and silence the warning, pass 'sort=True'.\n",
      "\n",
      "  data = pd.concat([self.train_data, self.test_data], axis=0)\n"
     ]
    }
   ],
   "source": [
    "data_reader = DataReader(path.train_path, path.test_path, path.med_path)"
   ]
  },
  {
   "cell_type": "code",
   "execution_count": 5,
   "metadata": {},
   "outputs": [],
   "source": [
    "data_reader.save(path.DATA_OUTPUT_CSV)"
   ]
  },
  {
   "cell_type": "code",
   "execution_count": 15,
   "metadata": {},
   "outputs": [],
   "source": [
    "no_of_classes = len(data_reader.int_to_pt)"
   ]
  },
  {
   "cell_type": "code",
   "execution_count": 16,
   "metadata": {},
   "outputs": [],
   "source": [
    "data_tokenizer = Tokenize(data_reader, max_words=const.MAX_WORDS, max_len=const.MAX_LENGTH, no_of_classes=no_of_classes)"
   ]
  },
  {
   "cell_type": "code",
   "execution_count": 17,
   "metadata": {},
   "outputs": [],
   "source": [
    "data_tokenizer.save_tokenizer(path.TOKENIZER)"
   ]
  },
  {
   "cell_type": "code",
   "execution_count": 8,
   "metadata": {},
   "outputs": [
    {
     "name": "stdout",
     "output_type": "stream",
     "text": [
      "WARNING:tensorflow:From /home/rahul/anaconda3/envs/deeplearning/lib/python3.7/site-packages/tensorflow/python/framework/op_def_library.py:263: colocate_with (from tensorflow.python.framework.ops) is deprecated and will be removed in a future version.\n",
      "Instructions for updating:\n",
      "Colocations handled automatically by placer.\n",
      "WARNING:tensorflow:From /home/rahul/anaconda3/envs/deeplearning/lib/python3.7/site-packages/keras/backend/tensorflow_backend.py:3445: calling dropout (from tensorflow.python.ops.nn_ops) with keep_prob is deprecated and will be removed in a future version.\n",
      "Instructions for updating:\n",
      "Please use `rate` instead of `keep_prob`. Rate should be set to `rate = 1 - keep_prob`.\n"
     ]
    }
   ],
   "source": [
    "lstm_model = LSTMModel(data_tokenizer, loss='categorical_crossentropy',\n",
    "                       optimizer='adam', metrics=[categorical_accuracy, top_k_categorical_accuracy],\n",
    "                       batch_size=const.BATCH_SIZE, epochs=const.EPOCHS)"
   ]
  },
  {
   "cell_type": "code",
   "execution_count": null,
   "metadata": {
    "scrolled": false
   },
   "outputs": [
    {
     "name": "stdout",
     "output_type": "stream",
     "text": [
      "WARNING:tensorflow:From /home/rahul/anaconda3/envs/deeplearning/lib/python3.7/site-packages/tensorflow/python/ops/math_ops.py:3066: to_int32 (from tensorflow.python.ops.math_ops) is deprecated and will be removed in a future version.\n",
      "Instructions for updating:\n",
      "Use tf.cast instead.\n",
      "Train on 50591 samples, validate on 12648 samples\n",
      "Epoch 1/30\n",
      "50591/50591 [==============================] - 209s 4ms/step - loss: 4.5984 - categorical_accuracy: 0.3489 - top_k_categorical_accuracy: 0.4819 - val_loss: 3.1207 - val_categorical_accuracy: 0.5517 - val_top_k_categorical_accuracy: 0.6869\n",
      "Epoch 2/30\n",
      "50591/50591 [==============================] - 206s 4ms/step - loss: 2.4818 - categorical_accuracy: 0.5991 - top_k_categorical_accuracy: 0.7414 - val_loss: 2.4438 - val_categorical_accuracy: 0.6512 - val_top_k_categorical_accuracy: 0.7744\n",
      "Epoch 3/30\n",
      "50591/50591 [==============================] - 205s 4ms/step - loss: 1.6962 - categorical_accuracy: 0.6901 - top_k_categorical_accuracy: 0.8303 - val_loss: 2.1863 - val_categorical_accuracy: 0.6873 - val_top_k_categorical_accuracy: 0.8085\n",
      "Epoch 4/30\n",
      "50591/50591 [==============================] - 208s 4ms/step - loss: 1.2191 - categorical_accuracy: 0.7502 - top_k_categorical_accuracy: 0.8880 - val_loss: 2.1432 - val_categorical_accuracy: 0.7046 - val_top_k_categorical_accuracy: 0.8266\n",
      "Epoch 5/30\n",
      "50591/50591 [==============================] - 207s 4ms/step - loss: 0.9045 - categorical_accuracy: 0.7958 - top_k_categorical_accuracy: 0.9312 - val_loss: 2.1458 - val_categorical_accuracy: 0.7167 - val_top_k_categorical_accuracy: 0.8377\n",
      "Epoch 6/30\n",
      "50591/50591 [==============================] - 209s 4ms/step - loss: 0.7005 - categorical_accuracy: 0.8342 - top_k_categorical_accuracy: 0.9592 - val_loss: 2.1666 - val_categorical_accuracy: 0.7198 - val_top_k_categorical_accuracy: 0.8388\n",
      "Epoch 7/30\n",
      "50591/50591 [==============================] - 208s 4ms/step - loss: 0.5655 - categorical_accuracy: 0.8652 - top_k_categorical_accuracy: 0.9759 - val_loss: 2.2161 - val_categorical_accuracy: 0.7211 - val_top_k_categorical_accuracy: 0.8408\n",
      "Epoch 8/30\n",
      "50591/50591 [==============================] - 207s 4ms/step - loss: 0.4846 - categorical_accuracy: 0.8852 - top_k_categorical_accuracy: 0.9831 - val_loss: 2.2275 - val_categorical_accuracy: 0.7227 - val_top_k_categorical_accuracy: 0.8433\n",
      "Epoch 9/30\n",
      "50591/50591 [==============================] - 208s 4ms/step - loss: 0.4400 - categorical_accuracy: 0.8965 - top_k_categorical_accuracy: 0.9853 - val_loss: 2.2545 - val_categorical_accuracy: 0.7252 - val_top_k_categorical_accuracy: 0.8453\n",
      "Epoch 10/30\n",
      "48384/50591 [===========================>..] - ETA: 8s - loss: 0.4059 - categorical_accuracy: 0.9049 - top_k_categorical_accuracy: 0.9877"
     ]
    }
   ],
   "source": [
    "lstm_model.fit()"
   ]
  },
  {
   "cell_type": "code",
   "execution_count": 9,
   "metadata": {},
   "outputs": [],
   "source": [
    "lstm_model.save(path.MODEL_JSON_PATH, path.MODEL_WEIGHTS_PATH)"
   ]
  },
  {
   "cell_type": "code",
   "execution_count": 10,
   "metadata": {},
   "outputs": [],
   "source": [
    "lstm_model.load_model(path.MODEL_JSON_PATH, path.MODEL_WEIGHTS_PATH)"
   ]
  },
  {
   "cell_type": "code",
   "execution_count": 11,
   "metadata": {},
   "outputs": [],
   "source": [
    "X = data_tokenizer.prepare_text([\"URINARY SYMPTOMS FOLLOWING OFF LABEL USE OF METHOTREXATE FOR MORPHEA PROFUNDA\"])"
   ]
  },
  {
   "cell_type": "code",
   "execution_count": 12,
   "metadata": {},
   "outputs": [
    {
     "data": {
      "text/plain": [
       "(1, 40)"
      ]
     },
     "execution_count": 12,
     "metadata": {},
     "output_type": "execute_result"
    }
   ],
   "source": [
    "X.shape"
   ]
  },
  {
   "cell_type": "code",
   "execution_count": 13,
   "metadata": {},
   "outputs": [
    {
     "name": "stdout",
     "output_type": "stream",
     "text": [
      "2836\n",
      "URINARY TRACT DISORDER\n"
     ]
    }
   ],
   "source": [
    "lstm_model.predict(X)"
   ]
  },
  {
   "cell_type": "code",
   "execution_count": null,
   "metadata": {},
   "outputs": [],
   "source": []
  }
 ],
 "metadata": {
  "kernelspec": {
   "display_name": "deeplearning",
   "language": "python",
   "name": "deeplearning"
  },
  "language_info": {
   "codemirror_mode": {
    "name": "ipython",
    "version": 3
   },
   "file_extension": ".py",
   "mimetype": "text/x-python",
   "name": "python",
   "nbconvert_exporter": "python",
   "pygments_lexer": "ipython3",
   "version": "3.6.5"
  }
 },
 "nbformat": 4,
 "nbformat_minor": 2
}
