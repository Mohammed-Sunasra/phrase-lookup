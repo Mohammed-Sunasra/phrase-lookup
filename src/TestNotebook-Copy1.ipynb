{
 "cells": [
  {
   "cell_type": "code",
   "execution_count": 1,
   "metadata": {},
   "outputs": [],
   "source": [
    "%reload_ext autoreload\n",
    "%autoreload 2"
   ]
  },
  {
   "cell_type": "code",
   "execution_count": 2,
   "metadata": {},
   "outputs": [
    {
     "name": "stderr",
     "output_type": "stream",
     "text": [
      "Using TensorFlow backend.\n"
     ]
    }
   ],
   "source": [
    "from keras.optimizers import RMSprop\n",
    "from datareader import DataReader\n",
    "from tokenizer import Tokenize\n",
    "from model import LSTMModel\n",
    "\n",
    "from config import constants as const\n",
    "from config import path"
   ]
  },
  {
   "cell_type": "code",
   "execution_count": 3,
   "metadata": {},
   "outputs": [
    {
     "name": "stderr",
     "output_type": "stream",
     "text": [
      "/home/mohammedsunasra/Mohammed/PixelDust/jason/phrase-lookup/src/datareader.py:25: FutureWarning: Sorting because non-concatenation axis is not aligned. A future version\n",
      "of pandas will change to not sort by default.\n",
      "\n",
      "To accept the future behavior, pass 'sort=False'.\n",
      "\n",
      "To retain the current behavior and silence the warning, pass 'sort=True'.\n",
      "\n",
      "  data = pd.concat([self.train_data, self.test_data], axis=0)\n"
     ]
    }
   ],
   "source": [
    "data_reader = DataReader(path.train_path, path.test_path, path.med_path)"
   ]
  },
  {
   "cell_type": "code",
   "execution_count": 5,
   "metadata": {},
   "outputs": [
    {
     "data": {
      "text/plain": [
       "5020"
      ]
     },
     "execution_count": 5,
     "metadata": {},
     "output_type": "execute_result"
    }
   ],
   "source": [
    "len(data_reader.pt_to_int)"
   ]
  },
  {
   "cell_type": "code",
   "execution_count": 9,
   "metadata": {},
   "outputs": [],
   "source": [
    "data_reader.save(path.DATA_OUTPUT_CSV)"
   ]
  },
  {
   "cell_type": "code",
   "execution_count": 6,
   "metadata": {},
   "outputs": [],
   "source": [
    "data_tokenizer = Tokenize(data_reader, max_words=const.MAX_WORDS, max_len=const.MAX_LENGTH)"
   ]
  },
  {
   "cell_type": "code",
   "execution_count": 7,
   "metadata": {},
   "outputs": [
    {
     "data": {
      "text/plain": [
       "(63239, 5020)"
      ]
     },
     "execution_count": 7,
     "metadata": {},
     "output_type": "execute_result"
    }
   ],
   "source": [
    "data_tokenizer.y.shape"
   ]
  },
  {
   "cell_type": "code",
   "execution_count": 8,
   "metadata": {},
   "outputs": [],
   "source": [
    "data_tokenizer.save_tokenizer(path.TOKENIZER)"
   ]
  },
  {
   "cell_type": "code",
   "execution_count": 11,
   "metadata": {},
   "outputs": [],
   "source": [
    "lstm_model = LSTMModel(data_tokenizer, loss='categorical_crossentropy',\n",
    "                       optimizer='adam', metrics=['categorical_accuracy'],\n",
    "                       batch_size=const.BATCH_SIZE, epochs=const.EPOCHS)"
   ]
  },
  {
   "cell_type": "code",
   "execution_count": null,
   "metadata": {},
   "outputs": [
    {
     "name": "stdout",
     "output_type": "stream",
     "text": [
      "Train on 50591 samples, validate on 12648 samples\n",
      "Epoch 1/30\n",
      "50591/50591 [==============================] - 252s 5ms/step - loss: 5.2706 - categorical_accuracy: 0.2526 - val_loss: 3.3745 - val_categorical_accuracy: 0.4998\n",
      "Epoch 2/30\n",
      "50591/50591 [==============================] - 257s 5ms/step - loss: 2.6995 - categorical_accuracy: 0.5672 - val_loss: 2.3640 - val_categorical_accuracy: 0.6354\n",
      "Epoch 3/30\n",
      "14528/50591 [=======>......................] - ETA: 2:57 - loss: 1.8709 - categorical_accuracy: 0.6671"
     ]
    }
   ],
   "source": [
    "lstm_model.fit()"
   ]
  },
  {
   "cell_type": "code",
   "execution_count": 40,
   "metadata": {},
   "outputs": [],
   "source": [
    "lstm_model.save(path.MODEL_JSON_PATH, path.MODEL_WEIGHTS_PATH)"
   ]
  }
 ],
 "metadata": {
  "kernelspec": {
   "display_name": "deeplearning",
   "language": "python",
   "name": "deeplearning"
  },
  "language_info": {
   "codemirror_mode": {
    "name": "ipython",
    "version": 3
   },
   "file_extension": ".py",
   "mimetype": "text/x-python",
   "name": "python",
   "nbconvert_exporter": "python",
   "pygments_lexer": "ipython3",
   "version": "3.6.5"
  }
 },
 "nbformat": 4,
 "nbformat_minor": 2
}
