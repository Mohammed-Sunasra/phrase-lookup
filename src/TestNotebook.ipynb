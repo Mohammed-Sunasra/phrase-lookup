{
 "cells": [
  {
   "cell_type": "code",
   "execution_count": 10,
   "metadata": {},
   "outputs": [],
   "source": [
    "%reload_ext autoreload\n",
    "%autoreload 2"
   ]
  },
  {
   "cell_type": "code",
   "execution_count": 11,
   "metadata": {},
   "outputs": [
    {
     "name": "stdout",
     "output_type": "stream",
     "text": [
      "/home/rahul/anaconda3/envs/deeplearning/bin/python\r\n"
     ]
    }
   ],
   "source": [
    "! which python"
   ]
  },
  {
   "cell_type": "code",
   "execution_count": 12,
   "metadata": {},
   "outputs": [],
   "source": [
    "from keras.optimizers import RMSprop\n",
    "from datareader import DataReader\n",
    "from tokenizer import Tokenize\n",
    "from model import LSTMModel\n",
    "\n",
    "from config import constants as const\n",
    "from config import path"
   ]
  },
  {
   "cell_type": "code",
   "execution_count": 13,
   "metadata": {},
   "outputs": [],
   "source": [
    "data_reader = DataReader(path.train_path, path.test_path, path.med_path)"
   ]
  },
  {
   "cell_type": "code",
   "execution_count": 14,
   "metadata": {},
   "outputs": [],
   "source": [
    "data_reader.save(path.DATA_OUTPUT_CSV)"
   ]
  },
  {
   "cell_type": "code",
   "execution_count": 18,
   "metadata": {},
   "outputs": [],
   "source": [
    "data_tokenizer = Tokenize(data_reader, max_words=const.MAX_WORDS, max_len=const.MAX_LENGTH)"
   ]
  },
  {
   "cell_type": "code",
   "execution_count": 19,
   "metadata": {},
   "outputs": [],
   "source": [
    "data_tokenizer.save_tokenizer(path.TOKENIZER)"
   ]
  },
  {
   "cell_type": "code",
   "execution_count": 22,
   "metadata": {},
   "outputs": [],
   "source": [
    "lstm_model = LSTMModel(data_tokenizer, loss='categorical_crossentropy',\n",
    "                       optimizer='adam', metrics=['categorical_accuracy'],\n",
    "                       batch_size=const.BATCH_SIZE, epochs=const.EPOCHS)"
   ]
  },
  {
   "cell_type": "code",
   "execution_count": null,
   "metadata": {},
   "outputs": [
    {
     "name": "stdout",
     "output_type": "stream",
     "text": [
      "Train on 50591 samples, validate on 12648 samples\n",
      "Epoch 1/30\n",
      "50591/50591 [==============================] - 95s 2ms/step - loss: 6.2181 - categorical_accuracy: 0.1194 - val_loss: 4.7455 - val_categorical_accuracy: 0.2894\n",
      "Epoch 2/30\n",
      " 5632/50591 [==>...........................] - ETA: 1:24 - loss: 4.5858 - categorical_accuracy: 0.2985"
     ]
    }
   ],
   "source": [
    "lstm_model.fit()"
   ]
  },
  {
   "cell_type": "code",
   "execution_count": 40,
   "metadata": {},
   "outputs": [],
   "source": [
    "lstm_model.save(path.MODEL_JSON_PATH, path.MODEL_WEIGHTS_PATH)"
   ]
  }
 ],
 "metadata": {
  "kernelspec": {
   "display_name": "deeplearning",
   "language": "python",
   "name": "deeplearning"
  },
  "language_info": {
   "codemirror_mode": {
    "name": "ipython",
    "version": 3
   },
   "file_extension": ".py",
   "mimetype": "text/x-python",
   "name": "python",
   "nbconvert_exporter": "python",
   "pygments_lexer": "ipython3",
   "version": "3.7.2"
  }
 },
 "nbformat": 4,
 "nbformat_minor": 2
}
