{
 "cells": [
  {
   "cell_type": "code",
   "execution_count": 1,
   "metadata": {},
   "outputs": [],
   "source": [
    "import pandas as pd\n",
    "import numpy as np\n",
    "import matplotlib.pyplot as plt\n",
    "import seaborn as sns"
   ]
  },
  {
   "cell_type": "code",
   "execution_count": 6,
   "metadata": {},
   "outputs": [],
   "source": [
    "df_train = pd.read_csv(\"output_files/combined.csv\", index_col=0)"
   ]
  },
  {
   "cell_type": "code",
   "execution_count": 9,
   "metadata": {},
   "outputs": [],
   "source": [
    "df_train['REPORTED_TERM'] = df_train['REPORTED_TERM'].apply(lambda x: x.lower())"
   ]
  },
  {
   "cell_type": "code",
   "execution_count": 10,
   "metadata": {},
   "outputs": [
    {
     "data": {
      "text/html": [
       "<div>\n",
       "<style scoped>\n",
       "    .dataframe tbody tr th:only-of-type {\n",
       "        vertical-align: middle;\n",
       "    }\n",
       "\n",
       "    .dataframe tbody tr th {\n",
       "        vertical-align: top;\n",
       "    }\n",
       "\n",
       "    .dataframe thead th {\n",
       "        text-align: right;\n",
       "    }\n",
       "</style>\n",
       "<table border=\"1\" class=\"dataframe\">\n",
       "  <thead>\n",
       "    <tr style=\"text-align: right;\">\n",
       "      <th></th>\n",
       "      <th>ART_CODE</th>\n",
       "      <th>DESC_CODED</th>\n",
       "      <th>HLGT_NAME_COMPL</th>\n",
       "      <th>HLT_NAME_COMPL</th>\n",
       "      <th>INC_CODE</th>\n",
       "      <th>INC_CODE_J</th>\n",
       "      <th>LLT_NAME_COMPL</th>\n",
       "      <th>PT_NAME_COMPL</th>\n",
       "      <th>REPORTED_TERM</th>\n",
       "      <th>SOC_CODE</th>\n",
       "      <th>len</th>\n",
       "    </tr>\n",
       "  </thead>\n",
       "  <tbody>\n",
       "    <tr>\n",
       "      <th>0</th>\n",
       "      <td>4356</td>\n",
       "      <td>Hyponatraemia</td>\n",
       "      <td>ELECTROLYTE AND FLUID BALANCE CONDITIONS</td>\n",
       "      <td>SODIUM IMBALANCE</td>\n",
       "      <td>10021038.0</td>\n",
       "      <td>10021036</td>\n",
       "      <td>HYPONATREMIA</td>\n",
       "      <td>HYPONATRAEMIA</td>\n",
       "      <td>hyponatremia</td>\n",
       "      <td>10027433.0</td>\n",
       "      <td>1</td>\n",
       "    </tr>\n",
       "    <tr>\n",
       "      <th>1</th>\n",
       "      <td>12574</td>\n",
       "      <td>Subacute cutaneous lupus erythematosus</td>\n",
       "      <td>EPIDERMAL AND DERMAL CONDITIONS</td>\n",
       "      <td>CONNECTIVE TISSUE DISORDERS</td>\n",
       "      <td>10057903.0</td>\n",
       "      <td>10057903</td>\n",
       "      <td>SUBACUTE CUTANEOUS LUPUS ERYTHEMATOSUS</td>\n",
       "      <td>SUBACUTE CUTANEOUS LUPUS ERYTHEMATOSUS</td>\n",
       "      <td>omeprazole induced subacute cutaneous lupus er...</td>\n",
       "      <td>10040785.0</td>\n",
       "      <td>4</td>\n",
       "    </tr>\n",
       "    <tr>\n",
       "      <th>2</th>\n",
       "      <td>1214</td>\n",
       "      <td>Blood bilirubin unconjugated increased</td>\n",
       "      <td>HEPATOBILIARY INVESTIGATIONS</td>\n",
       "      <td>LIVER FUNCTION ANALYSES</td>\n",
       "      <td>10021709.0</td>\n",
       "      <td>10021709</td>\n",
       "      <td>INDIRECT BILIRUBIN INCREASED</td>\n",
       "      <td>BLOOD BILIRUBIN UNCONJUGATED INCREASED</td>\n",
       "      <td>indirect bilirubin (74.7 micromol/l)</td>\n",
       "      <td>10022891.0</td>\n",
       "      <td>4</td>\n",
       "    </tr>\n",
       "    <tr>\n",
       "      <th>3</th>\n",
       "      <td>8134</td>\n",
       "      <td>toxic epidermal necrolysis</td>\n",
       "      <td>EPIDERMAL AND DERMAL CONDITIONS</td>\n",
       "      <td>BULLOUS CONDITIONS</td>\n",
       "      <td>10044223.0</td>\n",
       "      <td>10044223</td>\n",
       "      <td>TOXIC EPIDERMAL NECROLYSIS</td>\n",
       "      <td>TOXIC EPIDERMAL NECROLYSIS</td>\n",
       "      <td>toxic epidermal necrolysis</td>\n",
       "      <td>10040785.0</td>\n",
       "      <td>3</td>\n",
       "    </tr>\n",
       "    <tr>\n",
       "      <th>4</th>\n",
       "      <td>1597</td>\n",
       "      <td>Bradycardia</td>\n",
       "      <td>CARDIAC ARRHYTHMIAS</td>\n",
       "      <td>RATE AND RHYTHM DISORDERS NEC</td>\n",
       "      <td>10006093.0</td>\n",
       "      <td>10006093</td>\n",
       "      <td>BRADYCARDIA</td>\n",
       "      <td>BRADYCARDIA</td>\n",
       "      <td>bradycardia</td>\n",
       "      <td>10007541.0</td>\n",
       "      <td>1</td>\n",
       "    </tr>\n",
       "  </tbody>\n",
       "</table>\n",
       "</div>"
      ],
      "text/plain": [
       "   ART_CODE                              DESC_CODED  \\\n",
       "0      4356                           Hyponatraemia   \n",
       "1     12574  Subacute cutaneous lupus erythematosus   \n",
       "2      1214  Blood bilirubin unconjugated increased   \n",
       "3      8134              toxic epidermal necrolysis   \n",
       "4      1597                             Bradycardia   \n",
       "\n",
       "                            HLGT_NAME_COMPL                 HLT_NAME_COMPL  \\\n",
       "0  ELECTROLYTE AND FLUID BALANCE CONDITIONS               SODIUM IMBALANCE   \n",
       "1           EPIDERMAL AND DERMAL CONDITIONS    CONNECTIVE TISSUE DISORDERS   \n",
       "2              HEPATOBILIARY INVESTIGATIONS        LIVER FUNCTION ANALYSES   \n",
       "3           EPIDERMAL AND DERMAL CONDITIONS             BULLOUS CONDITIONS   \n",
       "4                       CARDIAC ARRHYTHMIAS  RATE AND RHYTHM DISORDERS NEC   \n",
       "\n",
       "     INC_CODE  INC_CODE_J                          LLT_NAME_COMPL  \\\n",
       "0  10021038.0    10021036                            HYPONATREMIA   \n",
       "1  10057903.0    10057903  SUBACUTE CUTANEOUS LUPUS ERYTHEMATOSUS   \n",
       "2  10021709.0    10021709            INDIRECT BILIRUBIN INCREASED   \n",
       "3  10044223.0    10044223              TOXIC EPIDERMAL NECROLYSIS   \n",
       "4  10006093.0    10006093                             BRADYCARDIA   \n",
       "\n",
       "                            PT_NAME_COMPL  \\\n",
       "0                           HYPONATRAEMIA   \n",
       "1  SUBACUTE CUTANEOUS LUPUS ERYTHEMATOSUS   \n",
       "2  BLOOD BILIRUBIN UNCONJUGATED INCREASED   \n",
       "3              TOXIC EPIDERMAL NECROLYSIS   \n",
       "4                             BRADYCARDIA   \n",
       "\n",
       "                                       REPORTED_TERM    SOC_CODE  len  \n",
       "0                                       hyponatremia  10027433.0    1  \n",
       "1  omeprazole induced subacute cutaneous lupus er...  10040785.0    4  \n",
       "2               indirect bilirubin (74.7 micromol/l)  10022891.0    4  \n",
       "3                         toxic epidermal necrolysis  10040785.0    3  \n",
       "4                                        bradycardia  10007541.0    1  "
      ]
     },
     "execution_count": 10,
     "metadata": {},
     "output_type": "execute_result"
    }
   ],
   "source": [
    "df_train.head()"
   ]
  },
  {
   "cell_type": "code",
   "execution_count": 11,
   "metadata": {},
   "outputs": [],
   "source": [
    "terms_list = list(df_train['REPORTED_TERM'])"
   ]
  },
  {
   "cell_type": "code",
   "execution_count": 13,
   "metadata": {},
   "outputs": [],
   "source": [
    "all_text = ' '.join(terms_list)"
   ]
  },
  {
   "cell_type": "code",
   "execution_count": 18,
   "metadata": {},
   "outputs": [],
   "source": [
    "words = all_text.split()"
   ]
  },
  {
   "cell_type": "markdown",
   "metadata": {},
   "source": [
    "#### Encoding Words"
   ]
  },
  {
   "cell_type": "code",
   "execution_count": 21,
   "metadata": {},
   "outputs": [],
   "source": [
    "from collections import Counter"
   ]
  },
  {
   "cell_type": "code",
   "execution_count": 22,
   "metadata": {},
   "outputs": [],
   "source": [
    "counts = Counter(words)\n",
    "vocab = sorted(counts, key=counts.get, reverse=True)\n",
    "vocab_to_int = {word: ii for ii, word in enumerate(vocab, 1)}"
   ]
  },
  {
   "cell_type": "code",
   "execution_count": 26,
   "metadata": {},
   "outputs": [],
   "source": [
    "reported_terms_ints = []\n",
    "for term in terms_list:\n",
    "    reported_terms_ints.append([vocab_to_int[word] for word in term.split()])"
   ]
  },
  {
   "cell_type": "code",
   "execution_count": 36,
   "metadata": {},
   "outputs": [],
   "source": [
    "# outlier review stats\n",
    "reported_term_lens = Counter([len(x) for x in reported_terms_ints])"
   ]
  },
  {
   "cell_type": "code",
   "execution_count": 37,
   "metadata": {},
   "outputs": [
    {
     "name": "stdout",
     "output_type": "stream",
     "text": [
      "Zero-length reviews: 0\n",
      "Maximum review length: 43\n"
     ]
    }
   ],
   "source": [
    "print(\"Zero-length reviews: {}\".format(reported_term_lens[0]))\n",
    "print(\"Maximum review length: {}\".format(max(reported_term_lens)))"
   ]
  },
  {
   "cell_type": "code",
   "execution_count": 38,
   "metadata": {},
   "outputs": [
    {
     "data": {
      "text/plain": [
       "63233"
      ]
     },
     "execution_count": 38,
     "metadata": {},
     "output_type": "execute_result"
    }
   ],
   "source": [
    "len(reported_terms_ints)"
   ]
  },
  {
   "cell_type": "code",
   "execution_count": 39,
   "metadata": {},
   "outputs": [],
   "source": [
    "def pad_features(reported_terms_ints, seq_length):\n",
    "    ''' Return features of review_ints, where each review is padded with 0's \n",
    "        or truncated to the input seq_length.\n",
    "    '''\n",
    "    \n",
    "    # getting the correct rows x cols shape\n",
    "    features = np.zeros((len(reported_terms_ints), seq_length), dtype=int)\n",
    "\n",
    "    # for each review, I grab that review and \n",
    "    for i, row in enumerate(reported_terms_ints):\n",
    "        features[i, -len(row):] = np.array(row)[:seq_length]\n",
    "    \n",
    "    return features"
   ]
  },
  {
   "cell_type": "code",
   "execution_count": 41,
   "metadata": {},
   "outputs": [],
   "source": [
    "seq_length = 200\n",
    "\n",
    "features = pad_features(reported_terms_ints, seq_length=seq_length)"
   ]
  },
  {
   "cell_type": "code",
   "execution_count": 48,
   "metadata": {},
   "outputs": [
    {
     "data": {
      "text/plain": [
       "array([[    0,     0,     0, ...,     0,     0,   413],\n",
       "       [    0,     0,     0, ...,  1952,     2,   332],\n",
       "       [    0,     0,     0, ...,   286, 12175,  1640],\n",
       "       ...,\n",
       "       [    0,     0,     0, ...,    30,    51,   282],\n",
       "       [    0,     0,     0, ...,  1858,    10,   182],\n",
       "       [    0,     0,     0, ...,     0,     0,   428]])"
      ]
     },
     "execution_count": 48,
     "metadata": {},
     "output_type": "execute_result"
    }
   ],
   "source": [
    "features"
   ]
  },
  {
   "cell_type": "code",
   "execution_count": 47,
   "metadata": {},
   "outputs": [
    {
     "data": {
      "text/plain": [
       "63233"
      ]
     },
     "execution_count": 47,
     "metadata": {},
     "output_type": "execute_result"
    }
   ],
   "source": [
    "len(reported_terms_ints)"
   ]
  },
  {
   "cell_type": "code",
   "execution_count": null,
   "metadata": {},
   "outputs": [],
   "source": []
  }
 ],
 "metadata": {
  "kernelspec": {
   "display_name": "deeplearning",
   "language": "python",
   "name": "deeplearning"
  },
  "language_info": {
   "codemirror_mode": {
    "name": "ipython",
    "version": 3
   },
   "file_extension": ".py",
   "mimetype": "text/x-python",
   "name": "python",
   "nbconvert_exporter": "python",
   "pygments_lexer": "ipython3",
   "version": "3.6.5"
  }
 },
 "nbformat": 4,
 "nbformat_minor": 2
}
