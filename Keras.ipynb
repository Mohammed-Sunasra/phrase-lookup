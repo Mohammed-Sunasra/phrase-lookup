{
 "cells": [
  {
   "cell_type": "code",
   "execution_count": 1,
   "metadata": {},
   "outputs": [
    {
     "name": "stderr",
     "output_type": "stream",
     "text": [
      "Using TensorFlow backend.\n"
     ]
    }
   ],
   "source": [
    "import pandas as pd\n",
    "import numpy as np\n",
    "import keras\n",
    "from keras import callbacks\n",
    "from keras.preprocessing import sequence\n",
    "from keras.preprocessing.text import Tokenizer\n",
    "from keras.models import Sequential, Model\n",
    "from keras.layers.embeddings import Embedding\n",
    "from keras.layers import Input,LSTM, Flatten, Dense, Activation, Dropout, SpatialDropout1D\n",
    "from keras.optimizers import RMSprop\n",
    "from keras.callbacks import ModelCheckpoint\n",
    "from sklearn.metrics import confusion_matrix, roc_auc_score, roc_curve\n",
    "from sklearn.model_selection import StratifiedKFold\n",
    "#import keras_metrics\n",
    "#import nltk\n",
    "#from nltk.tokenize import word_tokenize\n",
    "#import pickle\n",
    "from keras.utils import to_categorical\n",
    "from sklearn.model_selection import train_test_split\n",
    "np.random.seed(42)\n",
    "#import imblearn\n",
    "from sklearn.model_selection import StratifiedKFold"
   ]
  },
  {
   "cell_type": "code",
   "execution_count": 2,
   "metadata": {},
   "outputs": [],
   "source": [
    "df_train = pd.read_csv(\"output_files/combined.csv\", index_col=0)"
   ]
  },
  {
   "cell_type": "code",
   "execution_count": 3,
   "metadata": {},
   "outputs": [
    {
     "data": {
      "text/html": [
       "<div>\n",
       "<style scoped>\n",
       "    .dataframe tbody tr th:only-of-type {\n",
       "        vertical-align: middle;\n",
       "    }\n",
       "\n",
       "    .dataframe tbody tr th {\n",
       "        vertical-align: top;\n",
       "    }\n",
       "\n",
       "    .dataframe thead th {\n",
       "        text-align: right;\n",
       "    }\n",
       "</style>\n",
       "<table border=\"1\" class=\"dataframe\">\n",
       "  <thead>\n",
       "    <tr style=\"text-align: right;\">\n",
       "      <th></th>\n",
       "      <th>ART_CODE</th>\n",
       "      <th>DESC_CODED</th>\n",
       "      <th>HLGT_NAME_COMPL</th>\n",
       "      <th>HLT_NAME_COMPL</th>\n",
       "      <th>INC_CODE</th>\n",
       "      <th>INC_CODE_J</th>\n",
       "      <th>LLT_NAME_COMPL</th>\n",
       "      <th>PT_NAME_COMPL</th>\n",
       "      <th>REPORTED_TERM</th>\n",
       "      <th>SOC_CODE</th>\n",
       "      <th>len</th>\n",
       "    </tr>\n",
       "  </thead>\n",
       "  <tbody>\n",
       "    <tr>\n",
       "      <th>0</th>\n",
       "      <td>0</td>\n",
       "      <td>Hyponatraemia</td>\n",
       "      <td>ELECTROLYTE AND FLUID BALANCE CONDITIONS</td>\n",
       "      <td>SODIUM IMBALANCE</td>\n",
       "      <td>10021038.0</td>\n",
       "      <td>10021036</td>\n",
       "      <td>HYPONATREMIA</td>\n",
       "      <td>HYPONATRAEMIA</td>\n",
       "      <td>HYPONATREMIA</td>\n",
       "      <td>10027433.0</td>\n",
       "      <td>1</td>\n",
       "    </tr>\n",
       "    <tr>\n",
       "      <th>1</th>\n",
       "      <td>1</td>\n",
       "      <td>Subacute cutaneous lupus erythematosus</td>\n",
       "      <td>EPIDERMAL AND DERMAL CONDITIONS</td>\n",
       "      <td>CONNECTIVE TISSUE DISORDERS</td>\n",
       "      <td>10057903.0</td>\n",
       "      <td>10057903</td>\n",
       "      <td>SUBACUTE CUTANEOUS LUPUS ERYTHEMATOSUS</td>\n",
       "      <td>SUBACUTE CUTANEOUS LUPUS ERYTHEMATOSUS</td>\n",
       "      <td>OMEPRAZOLE INDUCED SUBACUTE CUTANEOUS LUPUS ER...</td>\n",
       "      <td>10040785.0</td>\n",
       "      <td>4</td>\n",
       "    </tr>\n",
       "    <tr>\n",
       "      <th>2</th>\n",
       "      <td>2</td>\n",
       "      <td>Blood bilirubin unconjugated increased</td>\n",
       "      <td>HEPATOBILIARY INVESTIGATIONS</td>\n",
       "      <td>LIVER FUNCTION ANALYSES</td>\n",
       "      <td>10021709.0</td>\n",
       "      <td>10021709</td>\n",
       "      <td>INDIRECT BILIRUBIN INCREASED</td>\n",
       "      <td>BLOOD BILIRUBIN UNCONJUGATED INCREASED</td>\n",
       "      <td>INDIRECT BILIRUBIN (74.7 MICROMOL/L)</td>\n",
       "      <td>10022891.0</td>\n",
       "      <td>4</td>\n",
       "    </tr>\n",
       "    <tr>\n",
       "      <th>3</th>\n",
       "      <td>3</td>\n",
       "      <td>toxic epidermal necrolysis</td>\n",
       "      <td>EPIDERMAL AND DERMAL CONDITIONS</td>\n",
       "      <td>BULLOUS CONDITIONS</td>\n",
       "      <td>10044223.0</td>\n",
       "      <td>10044223</td>\n",
       "      <td>TOXIC EPIDERMAL NECROLYSIS</td>\n",
       "      <td>TOXIC EPIDERMAL NECROLYSIS</td>\n",
       "      <td>TOXIC EPIDERMAL NECROLYSIS</td>\n",
       "      <td>10040785.0</td>\n",
       "      <td>3</td>\n",
       "    </tr>\n",
       "    <tr>\n",
       "      <th>4</th>\n",
       "      <td>4</td>\n",
       "      <td>Bradycardia</td>\n",
       "      <td>CARDIAC ARRHYTHMIAS</td>\n",
       "      <td>RATE AND RHYTHM DISORDERS NEC</td>\n",
       "      <td>10006093.0</td>\n",
       "      <td>10006093</td>\n",
       "      <td>BRADYCARDIA</td>\n",
       "      <td>BRADYCARDIA</td>\n",
       "      <td>BRADYCARDIA</td>\n",
       "      <td>10007541.0</td>\n",
       "      <td>1</td>\n",
       "    </tr>\n",
       "  </tbody>\n",
       "</table>\n",
       "</div>"
      ],
      "text/plain": [
       "   ART_CODE                              DESC_CODED  \\\n",
       "0         0                           Hyponatraemia   \n",
       "1         1  Subacute cutaneous lupus erythematosus   \n",
       "2         2  Blood bilirubin unconjugated increased   \n",
       "3         3              toxic epidermal necrolysis   \n",
       "4         4                             Bradycardia   \n",
       "\n",
       "                            HLGT_NAME_COMPL                 HLT_NAME_COMPL  \\\n",
       "0  ELECTROLYTE AND FLUID BALANCE CONDITIONS               SODIUM IMBALANCE   \n",
       "1           EPIDERMAL AND DERMAL CONDITIONS    CONNECTIVE TISSUE DISORDERS   \n",
       "2              HEPATOBILIARY INVESTIGATIONS        LIVER FUNCTION ANALYSES   \n",
       "3           EPIDERMAL AND DERMAL CONDITIONS             BULLOUS CONDITIONS   \n",
       "4                       CARDIAC ARRHYTHMIAS  RATE AND RHYTHM DISORDERS NEC   \n",
       "\n",
       "     INC_CODE  INC_CODE_J                          LLT_NAME_COMPL  \\\n",
       "0  10021038.0    10021036                            HYPONATREMIA   \n",
       "1  10057903.0    10057903  SUBACUTE CUTANEOUS LUPUS ERYTHEMATOSUS   \n",
       "2  10021709.0    10021709            INDIRECT BILIRUBIN INCREASED   \n",
       "3  10044223.0    10044223              TOXIC EPIDERMAL NECROLYSIS   \n",
       "4  10006093.0    10006093                             BRADYCARDIA   \n",
       "\n",
       "                            PT_NAME_COMPL  \\\n",
       "0                           HYPONATRAEMIA   \n",
       "1  SUBACUTE CUTANEOUS LUPUS ERYTHEMATOSUS   \n",
       "2  BLOOD BILIRUBIN UNCONJUGATED INCREASED   \n",
       "3              TOXIC EPIDERMAL NECROLYSIS   \n",
       "4                             BRADYCARDIA   \n",
       "\n",
       "                                       REPORTED_TERM    SOC_CODE  len  \n",
       "0                                       HYPONATREMIA  10027433.0    1  \n",
       "1  OMEPRAZOLE INDUCED SUBACUTE CUTANEOUS LUPUS ER...  10040785.0    4  \n",
       "2               INDIRECT BILIRUBIN (74.7 MICROMOL/L)  10022891.0    4  \n",
       "3                         TOXIC EPIDERMAL NECROLYSIS  10040785.0    3  \n",
       "4                                        BRADYCARDIA  10007541.0    1  "
      ]
     },
     "execution_count": 3,
     "metadata": {},
     "output_type": "execute_result"
    }
   ],
   "source": [
    "df_train.head()"
   ]
  },
  {
   "cell_type": "code",
   "execution_count": 4,
   "metadata": {},
   "outputs": [
    {
     "name": "stdout",
     "output_type": "stream",
     "text": [
      "(63233,)\n",
      "(63233,)\n"
     ]
    }
   ],
   "source": [
    "X, y = df_train.REPORTED_TERM, df_train.ART_CODE\n",
    "\n",
    "print(X.shape)\n",
    "print(y.shape)"
   ]
  },
  {
   "cell_type": "code",
   "execution_count": 5,
   "metadata": {},
   "outputs": [],
   "source": [
    "MAX_WORDS = 63000\n",
    "MAX_LEN = 200"
   ]
  },
  {
   "cell_type": "code",
   "execution_count": 6,
   "metadata": {},
   "outputs": [],
   "source": [
    "def preprocess(X):\n",
    "    tok = Tokenizer(num_words=MAX_WORDS)\n",
    "    tok.fit_on_texts(X)\n",
    "    sequences = tok.texts_to_sequences(X)\n",
    "    sequences_matrix = sequence.pad_sequences(sequences, maxlen=MAX_LEN)\n",
    "    return sequences_matrix"
   ]
  },
  {
   "cell_type": "code",
   "execution_count": 7,
   "metadata": {},
   "outputs": [],
   "source": [
    "X = preprocess(X)"
   ]
  },
  {
   "cell_type": "code",
   "execution_count": 8,
   "metadata": {},
   "outputs": [],
   "source": [
    "dummies = pd.get_dummies(y.values)"
   ]
  },
  {
   "cell_type": "code",
   "execution_count": 9,
   "metadata": {},
   "outputs": [],
   "source": [
    "y = np.array(dummies)"
   ]
  },
  {
   "cell_type": "code",
   "execution_count": 10,
   "metadata": {},
   "outputs": [],
   "source": [
    "no_categories = y.shape[1]"
   ]
  },
  {
   "cell_type": "code",
   "execution_count": 11,
   "metadata": {},
   "outputs": [],
   "source": [
    "X_train, X_val, y_train, y_val = train_test_split(X, y, test_size=0.20, shuffle=True, \n",
    "                                                  random_state=42)"
   ]
  },
  {
   "cell_type": "code",
   "execution_count": 12,
   "metadata": {},
   "outputs": [],
   "source": [
    "def RNN():\n",
    "    inputs = Input(name='inputs',shape=[MAX_LEN])\n",
    "    layer = Embedding(MAX_WORDS,100,input_length=MAX_LEN)(inputs)\n",
    "    layer = LSTM(128)(layer)\n",
    "    layer = Dense(512,name='FC1')(layer)\n",
    "    layer = Activation('relu')(layer)\n",
    "    layer = Dropout(0.30)(layer)\n",
    "    layer = Dense(no_categories,name='out_layer')(layer)\n",
    "    layer = Activation('softmax')(layer)\n",
    "    model = Model(inputs=inputs,outputs=layer)\n",
    "    return model"
   ]
  },
  {
   "cell_type": "code",
   "execution_count": 13,
   "metadata": {},
   "outputs": [],
   "source": [
    "model = RNN()\n",
    "#model.summary()\n",
    "model.compile(loss='categorical_crossentropy',optimizer=RMSprop(),metrics=['accuracy'])"
   ]
  },
  {
   "cell_type": "code",
   "execution_count": 14,
   "metadata": {},
   "outputs": [
    {
     "name": "stdout",
     "output_type": "stream",
     "text": [
      "Train on 50586 samples, validate on 12647 samples\n",
      "Epoch 1/15\n",
      "50586/50586 [==============================] - 316s 6ms/step - loss: 6.6246 - acc: 0.0483 - val_loss: 6.0587 - val_acc: 0.0681\n",
      "Epoch 2/15\n",
      "50586/50586 [==============================] - 315s 6ms/step - loss: 5.5775 - acc: 0.1407 - val_loss: 5.1137 - val_acc: 0.2144\n",
      "Epoch 3/15\n",
      "50586/50586 [==============================] - 313s 6ms/step - loss: 4.6642 - acc: 0.2815 - val_loss: 4.5064 - val_acc: 0.3367\n",
      "Epoch 4/15\n",
      "50586/50586 [==============================] - 312s 6ms/step - loss: 4.1192 - acc: 0.3744 - val_loss: 4.1643 - val_acc: 0.3931\n",
      "Epoch 5/15\n",
      "50586/50586 [==============================] - 312s 6ms/step - loss: 3.7729 - acc: 0.4307 - val_loss: 3.9507 - val_acc: 0.4447\n",
      "Epoch 6/15\n",
      "50586/50586 [==============================] - 312s 6ms/step - loss: 3.5259 - acc: 0.4693 - val_loss: 3.8294 - val_acc: 0.4625\n",
      "Epoch 7/15\n",
      "50586/50586 [==============================] - 314s 6ms/step - loss: 3.3110 - acc: 0.5048 - val_loss: 3.5854 - val_acc: 0.5055\n",
      "Epoch 8/15\n",
      "50586/50586 [==============================] - 312s 6ms/step - loss: 3.1371 - acc: 0.5314 - val_loss: 3.4961 - val_acc: 0.5211\n",
      "Epoch 9/15\n",
      "50586/50586 [==============================] - 314s 6ms/step - loss: 2.9756 - acc: 0.5546 - val_loss: 3.4004 - val_acc: 0.5470\n",
      "Epoch 10/15\n",
      "50586/50586 [==============================] - 313s 6ms/step - loss: 2.8349 - acc: 0.5751 - val_loss: 3.3134 - val_acc: 0.5564\n",
      "Epoch 11/15\n",
      "50586/50586 [==============================] - 314s 6ms/step - loss: 2.7147 - acc: 0.5934 - val_loss: 3.3157 - val_acc: 0.5669\n",
      "Epoch 12/15\n",
      "50586/50586 [==============================] - 314s 6ms/step - loss: 2.6016 - acc: 0.6116 - val_loss: 3.1796 - val_acc: 0.5787\n",
      "Epoch 13/15\n",
      "50586/50586 [==============================] - 344s 7ms/step - loss: 2.4907 - acc: 0.6267 - val_loss: 3.1454 - val_acc: 0.5821\n",
      "Epoch 14/15\n",
      "50586/50586 [==============================] - 315s 6ms/step - loss: 2.4054 - acc: 0.6417 - val_loss: 3.1055 - val_acc: 0.5888\n",
      "Epoch 15/15\n",
      "50586/50586 [==============================] - 317s 6ms/step - loss: 2.3039 - acc: 0.6518 - val_loss: 3.0544 - val_acc: 0.6025\n"
     ]
    },
    {
     "data": {
      "text/plain": [
       "<keras.callbacks.History at 0x7fe6f3cdb748>"
      ]
     },
     "execution_count": 14,
     "metadata": {},
     "output_type": "execute_result"
    }
   ],
   "source": [
    "model.fit(X_train, y_train, batch_size=128,epochs=15, validation_data=[X_val, y_val], shuffle=True)"
   ]
  },
  {
   "cell_type": "code",
   "execution_count": 16,
   "metadata": {},
   "outputs": [],
   "source": [
    "model.save('output_files/lstm_v1.h5')"
   ]
  },
  {
   "cell_type": "code",
   "execution_count": null,
   "metadata": {},
   "outputs": [],
   "source": []
  }
 ],
 "metadata": {
  "kernelspec": {
   "display_name": "deeplearning",
   "language": "python",
   "name": "deeplearning"
  },
  "language_info": {
   "codemirror_mode": {
    "name": "ipython",
    "version": 3
   },
   "file_extension": ".py",
   "mimetype": "text/x-python",
   "name": "python",
   "nbconvert_exporter": "python",
   "pygments_lexer": "ipython3",
   "version": "3.6.5"
  }
 },
 "nbformat": 4,
 "nbformat_minor": 2
}
