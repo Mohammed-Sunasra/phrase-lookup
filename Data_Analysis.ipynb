{
 "cells": [
  {
   "cell_type": "code",
   "execution_count": 102,
   "metadata": {},
   "outputs": [],
   "source": [
    "import numpy as np\n",
    "import pandas as pd\n",
    "import matplotlib.pyplot as plt\n",
    "import seaborn as sns\n",
    "sns.set_style('darkgrid')"
   ]
  },
  {
   "cell_type": "markdown",
   "metadata": {},
   "source": [
    "#### Reading Training Data"
   ]
  },
  {
   "cell_type": "code",
   "execution_count": 103,
   "metadata": {},
   "outputs": [],
   "source": [
    "df_train = pd.read_csv('data/train.csv')"
   ]
  },
  {
   "cell_type": "code",
   "execution_count": 104,
   "metadata": {},
   "outputs": [],
   "source": [
    "df_train.dropna(axis=0, how='all', inplace=True)"
   ]
  },
  {
   "cell_type": "code",
   "execution_count": 105,
   "metadata": {},
   "outputs": [],
   "source": [
    "df_train = df_train[~df_train.INC_CODE.isnull()]"
   ]
  },
  {
   "cell_type": "code",
   "execution_count": 126,
   "metadata": {},
   "outputs": [],
   "source": [
    "no_train = df_train.shape[0]"
   ]
  },
  {
   "cell_type": "code",
   "execution_count": 127,
   "metadata": {},
   "outputs": [
    {
     "name": "stdout",
     "output_type": "stream",
     "text": [
      "No of data points in training set:  45226\n"
     ]
    }
   ],
   "source": [
    "print(\"No of data points in training set: \", no_train)"
   ]
  },
  {
   "cell_type": "code",
   "execution_count": 108,
   "metadata": {},
   "outputs": [],
   "source": [
    "df_train.INC_CODE_J = df_train.INC_CODE_J.astype(int)\n",
    "df_train.ART_CODE = df_train.ART_CODE.astype(int)\n",
    "df_train.INC_CODE = df_train.INC_CODE.astype(int)"
   ]
  },
  {
   "cell_type": "code",
   "execution_count": 109,
   "metadata": {},
   "outputs": [
    {
     "data": {
      "text/html": [
       "<div>\n",
       "<style scoped>\n",
       "    .dataframe tbody tr th:only-of-type {\n",
       "        vertical-align: middle;\n",
       "    }\n",
       "\n",
       "    .dataframe tbody tr th {\n",
       "        vertical-align: top;\n",
       "    }\n",
       "\n",
       "    .dataframe thead th {\n",
       "        text-align: right;\n",
       "    }\n",
       "</style>\n",
       "<table border=\"1\" class=\"dataframe\">\n",
       "  <thead>\n",
       "    <tr style=\"text-align: right;\">\n",
       "      <th></th>\n",
       "      <th>REPORTED_TERM</th>\n",
       "      <th>DESC_CODED</th>\n",
       "      <th>LLT_NAME_COMPL</th>\n",
       "      <th>PT_NAME_COMPL</th>\n",
       "      <th>HLT_NAME_COMPL</th>\n",
       "      <th>HLGT_NAME_COMPL</th>\n",
       "      <th>SOC_CODE</th>\n",
       "      <th>INC_CODE_J</th>\n",
       "      <th>ART_CODE</th>\n",
       "      <th>INC_CODE</th>\n",
       "    </tr>\n",
       "  </thead>\n",
       "  <tbody>\n",
       "    <tr>\n",
       "      <th>0</th>\n",
       "      <td>HYPONATREMIA</td>\n",
       "      <td>Hyponatraemia</td>\n",
       "      <td>HYPONATREMIA</td>\n",
       "      <td>HYPONATRAEMIA</td>\n",
       "      <td>SODIUM IMBALANCE</td>\n",
       "      <td>ELECTROLYTE AND FLUID BALANCE CONDITIONS</td>\n",
       "      <td>10027433</td>\n",
       "      <td>10021036</td>\n",
       "      <td>10021036</td>\n",
       "      <td>10021038</td>\n",
       "    </tr>\n",
       "    <tr>\n",
       "      <th>1</th>\n",
       "      <td>OMEPRAZOLE INDUCED SUBACUTE CUTANEOUS LUPUS ER...</td>\n",
       "      <td>Subacute cutaneous lupus erythematosus</td>\n",
       "      <td>SUBACUTE CUTANEOUS LUPUS ERYTHEMATOSUS</td>\n",
       "      <td>SUBACUTE CUTANEOUS LUPUS ERYTHEMATOSUS</td>\n",
       "      <td>CONNECTIVE TISSUE DISORDERS</td>\n",
       "      <td>EPIDERMAL AND DERMAL CONDITIONS</td>\n",
       "      <td>10040785</td>\n",
       "      <td>10057903</td>\n",
       "      <td>10057903</td>\n",
       "      <td>10057903</td>\n",
       "    </tr>\n",
       "    <tr>\n",
       "      <th>2</th>\n",
       "      <td>INDIRECT BILIRUBIN (74.7 MICROMOL/L)</td>\n",
       "      <td>Blood bilirubin unconjugated increased</td>\n",
       "      <td>INDIRECT BILIRUBIN INCREASED</td>\n",
       "      <td>BLOOD BILIRUBIN UNCONJUGATED INCREASED</td>\n",
       "      <td>LIVER FUNCTION ANALYSES</td>\n",
       "      <td>HEPATOBILIARY INVESTIGATIONS</td>\n",
       "      <td>10022891</td>\n",
       "      <td>10021709</td>\n",
       "      <td>10005370</td>\n",
       "      <td>10021709</td>\n",
       "    </tr>\n",
       "    <tr>\n",
       "      <th>3</th>\n",
       "      <td>TOXIC EPIDERMAL NECROLYSIS</td>\n",
       "      <td>toxic epidermal necrolysis</td>\n",
       "      <td>TOXIC EPIDERMAL NECROLYSIS</td>\n",
       "      <td>TOXIC EPIDERMAL NECROLYSIS</td>\n",
       "      <td>BULLOUS CONDITIONS</td>\n",
       "      <td>EPIDERMAL AND DERMAL CONDITIONS</td>\n",
       "      <td>10040785</td>\n",
       "      <td>10044223</td>\n",
       "      <td>10044223</td>\n",
       "      <td>10044223</td>\n",
       "    </tr>\n",
       "    <tr>\n",
       "      <th>4</th>\n",
       "      <td>BRADYCARDIA</td>\n",
       "      <td>Bradycardia</td>\n",
       "      <td>BRADYCARDIA</td>\n",
       "      <td>BRADYCARDIA</td>\n",
       "      <td>RATE AND RHYTHM DISORDERS NEC</td>\n",
       "      <td>CARDIAC ARRHYTHMIAS</td>\n",
       "      <td>10007541</td>\n",
       "      <td>10006093</td>\n",
       "      <td>10006093</td>\n",
       "      <td>10006093</td>\n",
       "    </tr>\n",
       "  </tbody>\n",
       "</table>\n",
       "</div>"
      ],
      "text/plain": [
       "                                       REPORTED_TERM  \\\n",
       "0                                       HYPONATREMIA   \n",
       "1  OMEPRAZOLE INDUCED SUBACUTE CUTANEOUS LUPUS ER...   \n",
       "2               INDIRECT BILIRUBIN (74.7 MICROMOL/L)   \n",
       "3                         TOXIC EPIDERMAL NECROLYSIS   \n",
       "4                                        BRADYCARDIA   \n",
       "\n",
       "                               DESC_CODED  \\\n",
       "0                           Hyponatraemia   \n",
       "1  Subacute cutaneous lupus erythematosus   \n",
       "2  Blood bilirubin unconjugated increased   \n",
       "3              toxic epidermal necrolysis   \n",
       "4                             Bradycardia   \n",
       "\n",
       "                           LLT_NAME_COMPL  \\\n",
       "0                            HYPONATREMIA   \n",
       "1  SUBACUTE CUTANEOUS LUPUS ERYTHEMATOSUS   \n",
       "2            INDIRECT BILIRUBIN INCREASED   \n",
       "3              TOXIC EPIDERMAL NECROLYSIS   \n",
       "4                             BRADYCARDIA   \n",
       "\n",
       "                            PT_NAME_COMPL                 HLT_NAME_COMPL  \\\n",
       "0                           HYPONATRAEMIA               SODIUM IMBALANCE   \n",
       "1  SUBACUTE CUTANEOUS LUPUS ERYTHEMATOSUS    CONNECTIVE TISSUE DISORDERS   \n",
       "2  BLOOD BILIRUBIN UNCONJUGATED INCREASED        LIVER FUNCTION ANALYSES   \n",
       "3              TOXIC EPIDERMAL NECROLYSIS             BULLOUS CONDITIONS   \n",
       "4                             BRADYCARDIA  RATE AND RHYTHM DISORDERS NEC   \n",
       "\n",
       "                            HLGT_NAME_COMPL  SOC_CODE  INC_CODE_J  ART_CODE  \\\n",
       "0  ELECTROLYTE AND FLUID BALANCE CONDITIONS  10027433    10021036  10021036   \n",
       "1           EPIDERMAL AND DERMAL CONDITIONS  10040785    10057903  10057903   \n",
       "2              HEPATOBILIARY INVESTIGATIONS  10022891    10021709  10005370   \n",
       "3           EPIDERMAL AND DERMAL CONDITIONS  10040785    10044223  10044223   \n",
       "4                       CARDIAC ARRHYTHMIAS  10007541    10006093  10006093   \n",
       "\n",
       "   INC_CODE  \n",
       "0  10021038  \n",
       "1  10057903  \n",
       "2  10021709  \n",
       "3  10044223  \n",
       "4  10006093  "
      ]
     },
     "execution_count": 109,
     "metadata": {},
     "output_type": "execute_result"
    }
   ],
   "source": [
    "df_train.head()"
   ]
  },
  {
   "cell_type": "markdown",
   "metadata": {},
   "source": [
    "#### Reading Test data"
   ]
  },
  {
   "cell_type": "code",
   "execution_count": 110,
   "metadata": {},
   "outputs": [],
   "source": [
    "df_test = pd.read_csv('data/test.csv')"
   ]
  },
  {
   "cell_type": "code",
   "execution_count": 111,
   "metadata": {},
   "outputs": [
    {
     "data": {
      "text/html": [
       "<div>\n",
       "<style scoped>\n",
       "    .dataframe tbody tr th:only-of-type {\n",
       "        vertical-align: middle;\n",
       "    }\n",
       "\n",
       "    .dataframe tbody tr th {\n",
       "        vertical-align: top;\n",
       "    }\n",
       "\n",
       "    .dataframe thead th {\n",
       "        text-align: right;\n",
       "    }\n",
       "</style>\n",
       "<table border=\"1\" class=\"dataframe\">\n",
       "  <thead>\n",
       "    <tr style=\"text-align: right;\">\n",
       "      <th></th>\n",
       "      <th>REPORTED_TERM</th>\n",
       "      <th>DESC_CODED</th>\n",
       "      <th>LLT_NAME_COMPL</th>\n",
       "      <th>PT_NAME_COMPL</th>\n",
       "      <th>HLGT_NAME_COMPL</th>\n",
       "      <th>HLT_NAME_COMPL</th>\n",
       "      <th>SOC_CODE</th>\n",
       "      <th>INC_CODE_J</th>\n",
       "      <th>ART_CODE</th>\n",
       "      <th>INC_CODE</th>\n",
       "    </tr>\n",
       "  </thead>\n",
       "  <tbody>\n",
       "    <tr>\n",
       "      <th>0</th>\n",
       "      <td>GRADE 2 HAND-FOOT SYNDROME</td>\n",
       "      <td>Palmar-plantar erythrodysaesthesia syndrome</td>\n",
       "      <td>HAND AND FOOT SYNDROME</td>\n",
       "      <td>PALMAR-PLANTAR ERYTHRODYSAESTHESIA SYNDROME</td>\n",
       "      <td>EPIDERMAL AND DERMAL CONDITIONS</td>\n",
       "      <td>DERMATITIS ASCRIBED TO SPECIFIC AGENT</td>\n",
       "      <td>10040785</td>\n",
       "      <td>10019111</td>\n",
       "      <td>10033553</td>\n",
       "      <td>10019111.0</td>\n",
       "    </tr>\n",
       "    <tr>\n",
       "      <th>1</th>\n",
       "      <td>BRADYCARDIA</td>\n",
       "      <td>Bradycardia</td>\n",
       "      <td>BRADYCARDIA</td>\n",
       "      <td>BRADYCARDIA</td>\n",
       "      <td>CARDIAC ARRHYTHMIAS</td>\n",
       "      <td>RATE AND RHYTHM DISORDERS NEC</td>\n",
       "      <td>10007541</td>\n",
       "      <td>10006093</td>\n",
       "      <td>10006093</td>\n",
       "      <td>10006093.0</td>\n",
       "    </tr>\n",
       "    <tr>\n",
       "      <th>2</th>\n",
       "      <td>ACUTE ONSET IMBALANCE</td>\n",
       "      <td>Balance disorder</td>\n",
       "      <td>BALANCE DISORDER</td>\n",
       "      <td>BALANCE DISORDER</td>\n",
       "      <td>NEUROLOGICAL DISORDERS NEC</td>\n",
       "      <td>COORDINATION AND BALANCE DISTURBANCES</td>\n",
       "      <td>10029205</td>\n",
       "      <td>10049848</td>\n",
       "      <td>10049848</td>\n",
       "      <td>10049848.0</td>\n",
       "    </tr>\n",
       "    <tr>\n",
       "      <th>3</th>\n",
       "      <td>PSEUDOCIRRHOSIS</td>\n",
       "      <td>pseudocirrhosis</td>\n",
       "      <td>PSEUDOCIRRHOSIS</td>\n",
       "      <td>PSEUDOCIRRHOSIS</td>\n",
       "      <td>HEPATIC AND HEPATOBILIARY DISORDERS</td>\n",
       "      <td>HEPATIC FIBROSIS AND CIRRHOSIS</td>\n",
       "      <td>10019805</td>\n",
       "      <td>10076501</td>\n",
       "      <td>10076501</td>\n",
       "      <td>10076501.0</td>\n",
       "    </tr>\n",
       "    <tr>\n",
       "      <th>4</th>\n",
       "      <td>HYPERHIDROSIS</td>\n",
       "      <td>Hyperhidrosis</td>\n",
       "      <td>HYPERHIDROSIS</td>\n",
       "      <td>HYPERHIDROSIS</td>\n",
       "      <td>SKIN APPENDAGE CONDITIONS</td>\n",
       "      <td>APOCRINE AND ECCRINE GLAND DISORDERS</td>\n",
       "      <td>10040785</td>\n",
       "      <td>10020642</td>\n",
       "      <td>10020642</td>\n",
       "      <td>10020642.0</td>\n",
       "    </tr>\n",
       "  </tbody>\n",
       "</table>\n",
       "</div>"
      ],
      "text/plain": [
       "                REPORTED_TERM                                   DESC_CODED  \\\n",
       "0  GRADE 2 HAND-FOOT SYNDROME  Palmar-plantar erythrodysaesthesia syndrome   \n",
       "1                 BRADYCARDIA                                  Bradycardia   \n",
       "2       ACUTE ONSET IMBALANCE                             Balance disorder   \n",
       "3             PSEUDOCIRRHOSIS                              pseudocirrhosis   \n",
       "4               HYPERHIDROSIS                                Hyperhidrosis   \n",
       "\n",
       "           LLT_NAME_COMPL                                PT_NAME_COMPL  \\\n",
       "0  HAND AND FOOT SYNDROME  PALMAR-PLANTAR ERYTHRODYSAESTHESIA SYNDROME   \n",
       "1             BRADYCARDIA                                  BRADYCARDIA   \n",
       "2        BALANCE DISORDER                             BALANCE DISORDER   \n",
       "3         PSEUDOCIRRHOSIS                              PSEUDOCIRRHOSIS   \n",
       "4           HYPERHIDROSIS                                HYPERHIDROSIS   \n",
       "\n",
       "                       HLGT_NAME_COMPL                         HLT_NAME_COMPL  \\\n",
       "0      EPIDERMAL AND DERMAL CONDITIONS  DERMATITIS ASCRIBED TO SPECIFIC AGENT   \n",
       "1                  CARDIAC ARRHYTHMIAS          RATE AND RHYTHM DISORDERS NEC   \n",
       "2           NEUROLOGICAL DISORDERS NEC  COORDINATION AND BALANCE DISTURBANCES   \n",
       "3  HEPATIC AND HEPATOBILIARY DISORDERS         HEPATIC FIBROSIS AND CIRRHOSIS   \n",
       "4            SKIN APPENDAGE CONDITIONS   APOCRINE AND ECCRINE GLAND DISORDERS   \n",
       "\n",
       "   SOC_CODE  INC_CODE_J  ART_CODE    INC_CODE  \n",
       "0  10040785    10019111  10033553  10019111.0  \n",
       "1  10007541    10006093  10006093  10006093.0  \n",
       "2  10029205    10049848  10049848  10049848.0  \n",
       "3  10019805    10076501  10076501  10076501.0  \n",
       "4  10040785    10020642  10020642  10020642.0  "
      ]
     },
     "execution_count": 111,
     "metadata": {},
     "output_type": "execute_result"
    }
   ],
   "source": [
    "df_test.head()"
   ]
  },
  {
   "cell_type": "code",
   "execution_count": 112,
   "metadata": {},
   "outputs": [],
   "source": [
    "df_test.dropna(axis=0, how='all', inplace=True)"
   ]
  },
  {
   "cell_type": "code",
   "execution_count": 128,
   "metadata": {},
   "outputs": [],
   "source": [
    "no_test = df_test.shape[0]"
   ]
  },
  {
   "cell_type": "code",
   "execution_count": 129,
   "metadata": {},
   "outputs": [
    {
     "name": "stdout",
     "output_type": "stream",
     "text": [
      "No of data points in testing set:  19408\n"
     ]
    }
   ],
   "source": [
    "print(\"No of data points in testing set: \", no_test)"
   ]
  },
  {
   "cell_type": "markdown",
   "metadata": {},
   "source": [
    "#### Reading MEDDRA data"
   ]
  },
  {
   "cell_type": "code",
   "execution_count": 114,
   "metadata": {},
   "outputs": [],
   "source": [
    "df_med = pd.read_csv('data/meddra.csv')"
   ]
  },
  {
   "cell_type": "code",
   "execution_count": 115,
   "metadata": {},
   "outputs": [],
   "source": [
    "df_med.rename(columns={'ID':'id', 'Term':'term','Primary SOC':'primary_soc'}, inplace=True)"
   ]
  },
  {
   "cell_type": "code",
   "execution_count": 116,
   "metadata": {},
   "outputs": [
    {
     "data": {
      "text/html": [
       "<div>\n",
       "<style scoped>\n",
       "    .dataframe tbody tr th:only-of-type {\n",
       "        vertical-align: middle;\n",
       "    }\n",
       "\n",
       "    .dataframe tbody tr th {\n",
       "        vertical-align: top;\n",
       "    }\n",
       "\n",
       "    .dataframe thead th {\n",
       "        text-align: right;\n",
       "    }\n",
       "</style>\n",
       "<table border=\"1\" class=\"dataframe\">\n",
       "  <thead>\n",
       "    <tr style=\"text-align: right;\">\n",
       "      <th></th>\n",
       "      <th>id</th>\n",
       "      <th>term</th>\n",
       "      <th>primary_soc</th>\n",
       "    </tr>\n",
       "  </thead>\n",
       "  <tbody>\n",
       "    <tr>\n",
       "      <th>0</th>\n",
       "      <td>10000002</td>\n",
       "      <td>11-beta-hydroxylase deficiency</td>\n",
       "      <td>10010331</td>\n",
       "    </tr>\n",
       "    <tr>\n",
       "      <th>1</th>\n",
       "      <td>10000005</td>\n",
       "      <td>17 ketosteroids urine</td>\n",
       "      <td>10022891</td>\n",
       "    </tr>\n",
       "    <tr>\n",
       "      <th>2</th>\n",
       "      <td>10000007</td>\n",
       "      <td>17 ketosteroids urine decreased</td>\n",
       "      <td>10022891</td>\n",
       "    </tr>\n",
       "    <tr>\n",
       "      <th>3</th>\n",
       "      <td>10000009</td>\n",
       "      <td>17 ketosteroids urine increased</td>\n",
       "      <td>10022891</td>\n",
       "    </tr>\n",
       "    <tr>\n",
       "      <th>4</th>\n",
       "      <td>10000011</td>\n",
       "      <td>17 ketosteroids urine normal</td>\n",
       "      <td>10022891</td>\n",
       "    </tr>\n",
       "  </tbody>\n",
       "</table>\n",
       "</div>"
      ],
      "text/plain": [
       "         id                             term  primary_soc\n",
       "0  10000002   11-beta-hydroxylase deficiency     10010331\n",
       "1  10000005            17 ketosteroids urine     10022891\n",
       "2  10000007  17 ketosteroids urine decreased     10022891\n",
       "3  10000009  17 ketosteroids urine increased     10022891\n",
       "4  10000011     17 ketosteroids urine normal     10022891"
      ]
     },
     "execution_count": 116,
     "metadata": {},
     "output_type": "execute_result"
    }
   ],
   "source": [
    "df_med.head()"
   ]
  },
  {
   "cell_type": "code",
   "execution_count": 131,
   "metadata": {},
   "outputs": [],
   "source": [
    "no_terms = df_med.shape[0]"
   ]
  },
  {
   "cell_type": "code",
   "execution_count": 132,
   "metadata": {},
   "outputs": [
    {
     "name": "stdout",
     "output_type": "stream",
     "text": [
      "Total no of MEDDRA terms:  21612\n"
     ]
    }
   ],
   "source": [
    "print(\"Total no of MEDDRA terms: \", no_terms)"
   ]
  },
  {
   "cell_type": "markdown",
   "metadata": {},
   "source": [
    "### Checking Terms Present in Train but not in MEDDRA dict"
   ]
  },
  {
   "cell_type": "code",
   "execution_count": 137,
   "metadata": {},
   "outputs": [
    {
     "name": "stdout",
     "output_type": "stream",
     "text": [
      "Total train 45226\n",
      "No of Missing training set terms:  993\n"
     ]
    }
   ],
   "source": [
    "print(\"Total train\", no_train)\n",
    "missing_train = df_train[~df_train.ART_CODE.isin(df_med.id)].shape[0]\n",
    "print(\"No of Missing training set terms: \",missing_train)"
   ]
  },
  {
   "cell_type": "code",
   "execution_count": 138,
   "metadata": {},
   "outputs": [
    {
     "name": "stdout",
     "output_type": "stream",
     "text": [
      "Total test 19408\n",
      "No of Missing testing set terms:  381\n"
     ]
    }
   ],
   "source": [
    "print(\"Total test\", no_test)\n",
    "missing_test = df_test[~df_test.ART_CODE.isin(df_med.id)].shape[0]\n",
    "print(\"No of Missing testing set terms: \",missing_test)"
   ]
  },
  {
   "cell_type": "code",
   "execution_count": 139,
   "metadata": {},
   "outputs": [],
   "source": [
    "train_df = df_train[~df_train.ART_CODE.isin(df_med.id)]"
   ]
  },
  {
   "cell_type": "code",
   "execution_count": 140,
   "metadata": {},
   "outputs": [],
   "source": [
    "train_df.to_csv('train_modified.csv')"
   ]
  },
  {
   "cell_type": "code",
   "execution_count": 141,
   "metadata": {},
   "outputs": [],
   "source": [
    "test_df = df_test[~df_test.ART_CODE.isin(df_med.id)]"
   ]
  },
  {
   "cell_type": "code",
   "execution_count": 142,
   "metadata": {},
   "outputs": [],
   "source": [
    "test_df.to_csv('test_modified.csv')"
   ]
  },
  {
   "cell_type": "code",
   "execution_count": 30,
   "metadata": {},
   "outputs": [
    {
     "data": {
      "text/plain": [
       "28907"
      ]
     },
     "execution_count": 30,
     "metadata": {},
     "output_type": "execute_result"
    }
   ],
   "source": [
    "df_train.REPORTED_TERM.nunique()"
   ]
  },
  {
   "cell_type": "code",
   "execution_count": 31,
   "metadata": {},
   "outputs": [
    {
     "data": {
      "text/plain": [
       "13750"
      ]
     },
     "execution_count": 31,
     "metadata": {},
     "output_type": "execute_result"
    }
   ],
   "source": [
    "df_test.REPORTED_TERM.nunique()"
   ]
  },
  {
   "cell_type": "code",
   "execution_count": 59,
   "metadata": {},
   "outputs": [
    {
     "data": {
      "text/plain": [
       "8277"
      ]
     },
     "execution_count": 59,
     "metadata": {},
     "output_type": "execute_result"
    }
   ],
   "source": [
    "df_train.INC_CODE_J.nunique()"
   ]
  },
  {
   "cell_type": "code",
   "execution_count": 60,
   "metadata": {},
   "outputs": [
    {
     "data": {
      "text/plain": [
       "5218"
      ]
     },
     "execution_count": 60,
     "metadata": {},
     "output_type": "execute_result"
    }
   ],
   "source": [
    "df_test.INC_CODE_J.nunique()"
   ]
  },
  {
   "cell_type": "code",
   "execution_count": null,
   "metadata": {},
   "outputs": [],
   "source": []
  }
 ],
 "metadata": {
  "kernelspec": {
   "display_name": "deeplearning",
   "language": "python",
   "name": "deeplearning"
  },
  "language_info": {
   "codemirror_mode": {
    "name": "ipython",
    "version": 3
   },
   "file_extension": ".py",
   "mimetype": "text/x-python",
   "name": "python",
   "nbconvert_exporter": "python",
   "pygments_lexer": "ipython3",
   "version": "3.6.5"
  }
 },
 "nbformat": 4,
 "nbformat_minor": 2
}
